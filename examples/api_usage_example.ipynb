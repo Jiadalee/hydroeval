{
 "cells": [
  {
   "cell_type": "markdown",
   "metadata": {},
   "source": [
    "# Demonstration of HydroEval's API"
   ]
  },
  {
   "cell_type": "markdown",
   "metadata": {},
   "source": [
    "This notebook contains a simple example of the usage of the API of `HydroEval` to evaluate simulated and observed streamflow timeseries."
   ]
  },
  {
   "cell_type": "markdown",
   "metadata": {},
   "source": [
    "## 1. Load observed and simulated streamflow timeseries"
   ]
  },
  {
   "cell_type": "markdown",
   "metadata": {},
   "source": [
    "Two example files are provided in the folder `examples/` in order for anyone to reproduce this tutorial. Because the files are NetCDF files, we are going to use the Python package `netCDF4`, but HydroEval is independent of the file format you are working with because it only requires numpy arrays as inputs for observed and simulated timeseries."
   ]
  },
  {
   "cell_type": "code",
   "execution_count": null,
   "metadata": {},
   "outputs": [],
   "source": [
    "from netCDF4 import Dataset\n",
    "\n",
    "# load the observed timeseries\n",
    "with Dataset('examples/catchment.obs.flow.nc', 'r', format='NETCDF4') as f:  # read the NetCDF file\n",
    "    observed_flow = f.variables['flow'][:]  # this is the observed discharge timeseries\n",
    "    observed_dt = f.variables['DateTime'][:]  # this is the timestamp series for the observed period\n",
    "\n",
    "# load the observed timeseries\n",
    "with Dataset('examples/catchment.sim.flow.nc', 'r', format='NETCDF4') as f:  # read the NetCDF file\n",
    "    simulated_flow = f.variables['flow'][:]  # these are the simulated timeseries\n",
    "    simulated_dt = f.variables['DateTime'][:]  # this is the timestamp series for the simulated period"
   ]
  },
  {
   "cell_type": "markdown",
   "metadata": {},
   "source": [
    "It can be a good idea to check that your simulated and observed datasets are actually covering the same period:"
   ]
  },
  {
   "cell_type": "code",
   "execution_count": null,
   "metadata": {},
   "outputs": [],
   "source": [
    "import numpy as np\n",
    "\n",
    "# check that the two timestamp arrays are identical (i.e. same periods)\n",
    "if not np.array_equal(observed_dt, simulated_dt):\n",
    "    raise Exception('The observed and simulated periods do not match.')"
   ]
  },
  {
   "cell_type": "markdown",
   "metadata": {},
   "source": [
    "## 2. Calculate any available objective function"
   ]
  },
  {
   "cell_type": "markdown",
   "metadata": {},
   "source": [
    "Now that the dataset is loaded in memory, it is time to use HydroEval to evaluate the fit between the observed and simulated streamflow timeseries. To do so, import `hydroeval`, which will give you access to the `evaluator` Python function as well as all objective functions implemented in HydroEval (as Python functions as well). To evaluate the fit of observed and simulated data, you only need to call the evaluator function and provide three mandatory positional arguments: the Python function corresponding to the objective function to be used (e.g. `kge`, `nse`, etc.), the numpy array for the simulated timeseries (it can be multiple timeseries), and the numpy array for the observed timeseries (it can only contain one timeseries). See below examples using these requirements:"
   ]
  },
  {
   "cell_type": "code",
   "execution_count": null,
   "metadata": {},
   "outputs": [],
   "source": [
    "from hydroeval import evaluator, kge, rmse\n",
    "\n",
    "# use the evaluator with the Kling-Gupta Efficiency (objective function 1)\n",
    "my_kge = evaluator(kge, simulated_flow, observed_flow)\n",
    "\n",
    "# use the evaluator with the Kling-Gupta Efficiency for inverted flow series (objective function 2)\n",
    "my_kge_inv = evaluator(kge, simulated_flow, observed_flow, transform='inv')\n",
    "\n",
    "# use the evaluator with the Root Mean Square Error (objective function 3)\n",
    "my_rmse = evaluator(rmse, simulated_flow, observed_flow)"
   ]
  },
  {
   "cell_type": "markdown",
   "metadata": {},
   "source": [
    "It is important to be aware that HydroEval performs pairwise deletion when missing values in the observed streamflow timeseries occur. Missing values should be set to `nan` (Not A Number) in the observed numpy array for HydroEval to be aware of the positions of the values to delete in both observed and simulated timeseries."
   ]
  },
  {
   "cell_type": "markdown",
   "metadata": {},
   "source": [
    "It should also be noted that `kge` and `kgeprime` return four values for each simulated timeseries. Indeed, it returns the KGE or KGE' value, as well as their three respective components (r/$\\alpha$/$\\beta$, and r/$\\gamma$/$\\beta$, respectively). However, `kge_c2m` and `kgeprime_c2m` only return one value, that is the corresponding bounded KGE value only."
   ]
  },
  {
   "cell_type": "markdown",
   "metadata": {},
   "source": [
    "HydroEval can only deal with 1-dimensional or 2-dimensional numpy arrays as input. The observed numpy array can only contain one time series of flows, hence it should either be a 1-dimensional array of a 2-dimensional array with one of the two dimensions of size 1. HydroEval can evaluate multiple simulated time series against the observed time series at the same time (using vectorised calculations). Which means that the simulated time series can be a 2-dimensional array with both dimensions of size greater than 1, one of them being the time dimension and must match the length of the observed time series. Both observed and simulated arrays must have the same orientation, that is to say they must have their time dimensions along the same axis. By default, HydroEval is expecting the time dimension to be on the first axis (i.e. `axis=0`) and this for both observed and simulated time series (if they are 2-dimensional of course). If this is not the case with your dataset, you need to redefine the default value of the `axis` keyword argument and set it to `1` (for the second axis). Alternatively, you can transpose your arrays before giving them to HydroEval. For multi-component objective functions such as KGE and its variants, the orientation of the input array is preserved in the output array (i.e. the time dimension will be reduced to the number of components in the objective function). For single-component objective functions such as NSE, the value returned is either a scalar if only one simulation time series is evaluated, or a 1-dimensional numpy array if the several simulation time series are evaluated."
   ]
  }
 ],
 "metadata": {
  "kernelspec": {
   "display_name": "Python 3",
   "language": "python",
   "name": "python3"
  },
  "language_info": {
   "codemirror_mode": {
    "name": "ipython",
    "version": 3
   },
   "file_extension": ".py",
   "mimetype": "text/x-python",
   "name": "python",
   "nbconvert_exporter": "python",
   "pygments_lexer": "ipython3",
   "version": "3.6.7"
  }
 },
 "nbformat": 4,
 "nbformat_minor": 2
}